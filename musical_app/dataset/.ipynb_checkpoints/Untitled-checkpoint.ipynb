{
 "cells": [
  {
   "cell_type": "code",
   "execution_count": 27,
   "id": "naked-humanity",
   "metadata": {},
   "outputs": [
    {
     "name": "stdout",
     "output_type": "stream",
     "text": [
      "Requirement already satisfied: pandas in c:\\users\\yumin\\anaconda3\\envs\\assign\\lib\\site-packages (1.2.3)\n",
      "Requirement already satisfied: pytz>=2017.3 in c:\\users\\yumin\\anaconda3\\envs\\assign\\lib\\site-packages (from pandas) (2021.1)\n",
      "Requirement already satisfied: numpy>=1.16.5 in c:\\users\\yumin\\anaconda3\\envs\\assign\\lib\\site-packages (from pandas) (1.20.2)\n",
      "Requirement already satisfied: python-dateutil>=2.7.3 in c:\\users\\yumin\\anaconda3\\envs\\assign\\lib\\site-packages (from pandas) (2.8.1)\n",
      "Requirement already satisfied: six>=1.5 in c:\\users\\yumin\\anaconda3\\envs\\assign\\lib\\site-packages (from python-dateutil>=2.7.3->pandas) (1.15.0)\n",
      "Note: you may need to restart the kernel to use updated packages.\n"
     ]
    }
   ],
   "source": [
    "pip install pandas"
   ]
  },
  {
   "cell_type": "code",
   "execution_count": 28,
   "id": "split-valve",
   "metadata": {},
   "outputs": [],
   "source": [
    "import pandas as pd\n",
    "import numpy as np"
   ]
  },
  {
   "cell_type": "code",
   "execution_count": 29,
   "id": "vital-chicken",
   "metadata": {},
   "outputs": [],
   "source": [
    "df_2021020028 = pd.DataFrame(columns=['gender', 'age', 'experience', 'accompany', 'satisfy']) # 라푼젤"
   ]
  },
  {
   "cell_type": "code",
   "execution_count": 30,
   "id": "prostate-terminal",
   "metadata": {},
   "outputs": [],
   "source": [
    "df_2021020028.age = np.random.randint(0,80,size=200)"
   ]
  },
  {
   "cell_type": "code",
   "execution_count": 31,
   "id": "associate-sound",
   "metadata": {},
   "outputs": [],
   "source": [
    "df_2021020028.gender = np.random.choice([1, 2], p=[0.5, 0.5], size=200) # 1:male, 2:female"
   ]
  },
  {
   "cell_type": "code",
   "execution_count": 32,
   "id": "effective-manitoba",
   "metadata": {},
   "outputs": [],
   "source": [
    "df_2021020028.experience = np.random.choice([0, 1], p=[0.86, 0.14], size=200) #https://kosis.kr/statHtml/statHtml.do?orgId=113&tblId=DT_113_STBL_1026893 통계자료 참고\n",
    "# 0:관람경험 없음, 1:관람경험 있음"
   ]
  },
  {
   "cell_type": "code",
   "execution_count": 33,
   "id": "black-mainland",
   "metadata": {},
   "outputs": [],
   "source": [
    "df_2021020028.accompany = np.random.choice([0, 1, 2, 3], p=[0.07, 0.31, 0.31, 0.31], size=200) # 0:혼자, 1:친구와 함께, 2:연인과 함께, 3:가족과 함께"
   ]
  },
  {
   "cell_type": "code",
   "execution_count": 34,
   "id": "polar-blame",
   "metadata": {},
   "outputs": [
    {
     "name": "stdout",
     "output_type": "stream",
     "text": [
      "     gender  age  experience  accompany satisfy\n",
      "0         1   79           1          3     NaN\n",
      "1         1   62           0          3     NaN\n",
      "2         2   70           0          1     NaN\n",
      "3         2   26           1          3     NaN\n",
      "4         1   24           0          1     NaN\n",
      "..      ...  ...         ...        ...     ...\n",
      "195       1   59           0          1     NaN\n",
      "196       2   68           1          1     NaN\n",
      "197       1    4           0          0     NaN\n",
      "198       1   32           0          1     NaN\n",
      "199       2   38           0          1     NaN\n",
      "\n",
      "[200 rows x 5 columns]\n"
     ]
    }
   ],
   "source": [
    "print(df_2021020028)"
   ]
  },
  {
   "cell_type": "code",
   "execution_count": 35,
   "id": "gentle-hometown",
   "metadata": {},
   "outputs": [],
   "source": [
    "df_2021020030 = df_2021020028.copy() # 캣츠\n",
    "df_2021020072 = df_2021020028.copy() # 베르나르다 알바\n",
    "df_2021030009 = df_2021020028.copy() # 백설공주\n",
    "df_2021030013 = df_2021020028.copy() # 더퀸: 선덕여왕의 귀환\n",
    "df_2021030039 = df_2021020028.copy() # 엄마 까투리: 먹구렁이와 생일파티\n",
    "df_2021030074 = df_2021020028.copy() # 시크릿쥬쥬 시즌2: 별의여신\n",
    "df_2021030094 = df_2021020028.copy() # 레미제라블 40주년 프랑스 오리지널팀 내한 콘서트\n",
    "df_2021030108 = df_2021020028.copy() # 흔한남매: 엄마의 꿈을 지켜라!"
   ]
  },
  {
   "cell_type": "code",
   "execution_count": 36,
   "id": "bright-harvest",
   "metadata": {},
   "outputs": [],
   "source": [
    "#라푼젤\n",
    "for i in df_2021020028.index :\n",
    "    if df_2021020028.loc[i, 'age'] < 10 :\n",
    "        df_2021020028.loc[i, 'satisfy'] = 1\n",
    "    \n",
    "    elif df_2021020028.loc[i, 'accompany'] == 2 :\n",
    "        df_2021020028.loc[i, 'satisfy'] = random.choices([0, 1], weights=[0.7, 0.3])\n",
    "        \n",
    "    elif df_2021020028.loc[i, 'gender'] == 1 :\n",
    "        df_2021020028.loc[i, 'satisfy'] = random.choices([0, 1], weights=[0.6, 0.4])\n",
    "    \n",
    "    else :\n",
    "        df_2021020028.loc[i, 'satisfy'] = random.choices([0, 1], weights=[0.4, 0.6])\n",
    "\n",
    "# df_2021020028.satisfy.fillna(np.random.choice([0, 1], p=[0.5, 0.5]), inplace=True)"
   ]
  },
  {
   "cell_type": "code",
   "execution_count": 37,
   "id": "english-ghost",
   "metadata": {},
   "outputs": [],
   "source": [
    "#캣츠\n",
    "for i in df_2021020030.index :\n",
    "    if df_2021020030.loc[i, 'age'] < 20 :\n",
    "        df_2021020030.loc[i, 'satisfy'] = np.random.choice([0, 1])\n",
    "    \n",
    "    elif (df_2021020030.loc[i, 'experience'] == 1) and (df_2021020030.loc[i, 'gender'] == 1) :\n",
    "        df_2021020030.loc[i, 'satisfy'] = random.choices([0, 1], weights=[0.3, 0.7])\n",
    "    \n",
    "    elif (df_2021020030.loc[i, 'experience'] == 1) and (df_2021020030.loc[i, 'gender'] == 2) :\n",
    "        df_2021020030.loc[i, 'satisfy'] = random.choices([0, 1], weights=[0.2, 0.8])\n",
    "\n",
    "df_2021020030.satisfy.fillna(np.random.choice([0, 1], p=[0.35, 0.65]), inplace=True)"
   ]
  },
  {
   "cell_type": "code",
   "execution_count": 38,
   "id": "indirect-description",
   "metadata": {},
   "outputs": [],
   "source": [
    "#베르나르다 알바\n",
    "for i in df_2021020072.index :\n",
    "    if df_2021020072.loc[i, 'age'] < 13 :\n",
    "        df_2021020072.loc[i, 'satisfy'] = np.random.choice([0, 1])\n",
    "\n",
    "    elif df_2021020072.loc[i, 'age'] <= 20 :\n",
    "        df_2021020072.loc[i, 'satisfy'] = random.choices([0, 1], weights=[0.3, 0.7])\n",
    "\n",
    "df_2021020072.satisfy.fillna(np.random.choice([0, 1], p=[0.5, 0.5]), inplace=True)"
   ]
  },
  {
   "cell_type": "code",
   "execution_count": 39,
   "id": "corporate-oklahoma",
   "metadata": {},
   "outputs": [],
   "source": [
    "# 백설공주\n",
    "for i in df_2021030009.index :\n",
    "    if (df_2021030009.loc[i, 'age'] < 10) and (df_2021030009.loc[i, 'gender'] == 1) :\n",
    "        df_2021030009.loc[i, 'satisfy'] = random.choices([0, 1], weights=[0.2, 0.8])\n",
    "        \n",
    "    elif (df_2021030009.loc[i, 'age'] < 10) and (df_2021030009.loc[i, 'gender'] == 2) :\n",
    "        df_2021030009.loc[i, 'satisfy'] = 1\n",
    "    \n",
    "    elif (df_2021030009.loc[i, 'accompany'] == 1) and (df_2021030009.loc[i, 'accompany'] == 2) :\n",
    "        df_2021030009.loc[i, 'satisfy'] = random.choices([0, 1], weights=[0.9, 0.1])\n",
    "\n",
    "df_2021030009.satisfy.fillna(np.random.choice([0, 1], p=[0.4, 0.6]), inplace=True)"
   ]
  },
  {
   "cell_type": "code",
   "execution_count": 40,
   "id": "exposed-texas",
   "metadata": {},
   "outputs": [],
   "source": [
    "# 더퀸: 선덕여왕의 귀환\n",
    "for i in df_2021030013.index :\n",
    "    if (df_2021030013.loc[i, 'age'] < 10) :\n",
    "        df_2021030013.loc[i, 'satisfy'] = random.choices([0, 1], weights=[0.8, 0.2])\n",
    "        \n",
    "    elif df_2021030013.loc[i, 'gender'] == 2 :\n",
    "        df_2021030013.loc[i, 'satisfy'] = random.choices([0, 1], weights=[0.3, 0.7])\n",
    "    \n",
    "    elif df_2021030013.loc[i, 'gender'] == 1 :\n",
    "        df_2021030013.loc[i, 'satisfy'] = random.choices([0, 1], weights=[0.45, 0.55])\n",
    "\n",
    "# df_2021030013.satisfy.fillna(np.random.choice([0, 1], p=[0.4, 0.6]), inplace=True)"
   ]
  },
  {
   "cell_type": "code",
   "execution_count": 41,
   "id": "junior-commercial",
   "metadata": {},
   "outputs": [],
   "source": [
    "# 엄마 까투리: 먹구렁이와 생일파티\n",
    "for i in df_2021030039.index :\n",
    "    if (df_2021030039.loc[i, 'age'] < 10) :\n",
    "        df_2021030039.loc[i, 'satisfy'] = random.choices([0, 1], weights=[0.25, 0.75])\n",
    "    \n",
    "    elif (df_2021030039.loc[i, 'accompany'] == 1) and (df_2021030039.loc[i, 'accompany'] == 2) :\n",
    "        df_2021030039.loc[i, 'satisfy'] = random.choices([0, 1], weights=[0.9, 0.1])\n",
    "\n",
    "df_2021030039.satisfy.fillna(np.random.choice([0, 1], p=[0.65, 0.35]), inplace=True)"
   ]
  },
  {
   "cell_type": "code",
   "execution_count": 42,
   "id": "discrete-village",
   "metadata": {},
   "outputs": [],
   "source": [
    "# 시크릿쥬쥬 시즌2: 별의여신\n",
    "for i in df_2021030074.index :\n",
    "    if (df_2021030074.loc[i, 'age'] < 10) and (df_2021030074.loc[i, 'gender'] == 2) :\n",
    "        df_2021030074.loc[i, 'satisfy'] = random.choices([0, 1], weights=[0.25, 0.75])\n",
    "    \n",
    "    elif (df_2021030074.loc[i, 'age'] < 10) and (df_2021030074.loc[i, 'gender'] == 1) :\n",
    "        df_2021030074.loc[i, 'satisfy'] = random.choices([0, 1], weights=[0.3, 0.7])\n",
    "    \n",
    "    elif (df_2021030074.loc[i, 'accompany'] == 1) and (df_2021030074.loc[i, 'accompany'] == 2) :\n",
    "        df_2021030074.loc[i, 'satisfy'] = random.choices([0, 1], weights=[0.9, 0.1])\n",
    "\n",
    "df_2021030074.satisfy.fillna(np.random.choice([0, 1], p=[0.65, 0.35]), inplace=True)"
   ]
  },
  {
   "cell_type": "code",
   "execution_count": 43,
   "id": "found-departure",
   "metadata": {},
   "outputs": [],
   "source": [
    "#레미제라블 40주년 프랑스 오리지널팀 내한 콘서트\n",
    "for i in df_2021030094.index :\n",
    "    if df_2021030094.loc[i, 'age'] < 10 :\n",
    "        df_2021030094.loc[i, 'satisfy'] = random.choices([0, 1], weights=[0.9, 0.1])\n",
    "\n",
    "df_2021030094.satisfy.fillna(np.random.choice([0, 1], p=[0.2, 0.8]), inplace=True)"
   ]
  },
  {
   "cell_type": "code",
   "execution_count": 44,
   "id": "interim-depth",
   "metadata": {},
   "outputs": [],
   "source": [
    "# 흔한남매: 엄마의 꿈을 지켜라!\n",
    "for i in df_2021030108.index :\n",
    "    if (df_2021030108.loc[i, 'age'] < 8) :\n",
    "        df_2021030108.loc[i, 'satisfy'] = random.choices([0, 1], weights=[0.5, 0.5])\n",
    "    \n",
    "    elif (df_2021030074.loc[i, 'age'] < 14) :\n",
    "        df_2021030074.loc[i, 'satisfy'] = random.choices([0, 1], weights=[0.2, 0.8])\n",
    "    \n",
    "    elif (df_2021030074.loc[i, 'accompany'] == 1) and (df_2021030074.loc[i, 'accompany'] == 2) :\n",
    "        df_2021030074.loc[i, 'satisfy'] = random.choices([0, 1], weights=[0.8, 0.2])\n",
    "\n",
    "df_2021030074.satisfy.fillna(np.random.choice([0, 1], p=[0.65, 0.35]), inplace=True)"
   ]
  },
  {
   "cell_type": "code",
   "execution_count": 49,
   "id": "biological-robert",
   "metadata": {},
   "outputs": [
    {
     "name": "stdout",
     "output_type": "stream",
     "text": [
      "gender        0\n",
      "age           0\n",
      "experience    0\n",
      "accompany     0\n",
      "satisfy       0\n",
      "dtype: int64 gender        0\n",
      "age           0\n",
      "experience    0\n",
      "accompany     0\n",
      "satisfy       0\n",
      "dtype: int64 gender        0\n",
      "age           0\n",
      "experience    0\n",
      "accompany     0\n",
      "satisfy       0\n",
      "dtype: int64 gender        0\n",
      "age           0\n",
      "experience    0\n",
      "accompany     0\n",
      "satisfy       0\n",
      "dtype: int64 gender        0\n",
      "age           0\n",
      "experience    0\n",
      "accompany     0\n",
      "satisfy       0\n",
      "dtype: int64 gender        0\n",
      "age           0\n",
      "experience    0\n",
      "accompany     0\n",
      "satisfy       0\n",
      "dtype: int64 gender        0\n",
      "age           0\n",
      "experience    0\n",
      "accompany     0\n",
      "satisfy       0\n",
      "dtype: int64 gender        0\n",
      "age           0\n",
      "experience    0\n",
      "accompany     0\n",
      "satisfy       0\n",
      "dtype: int64 gender        0\n",
      "age           0\n",
      "experience    0\n",
      "accompany     0\n",
      "satisfy       0\n",
      "dtype: int64\n"
     ]
    }
   ],
   "source": [
    "print(\n",
    "    df_2021020028.isnull().sum(), # 라푼젤\n",
    "    df_2021020030.isnull().sum(), # 캣츠\n",
    "    df_2021020072.isnull().sum(), # 베르나르다 알바\n",
    "    df_2021030009.isnull().sum(), # 백설공주\n",
    "    df_2021030013.isnull().sum(), # 더퀸: 선덕여왕의 귀환\n",
    "    df_2021030039.isnull().sum(), # 엄마 까투리: 먹구렁이와 생일파티\n",
    "    df_2021030074.isnull().sum(), # 시크릿쥬쥬 시즌2: 별의여신\n",
    "    df_2021030094.isnull().sum(), # 레미제라블 40주년 프랑스 오리지널팀 내한 콘서트\n",
    "    df_2021030108.isnull().sum() # 흔한남매: 엄마의 꿈을 지켜라!\n",
    ")"
   ]
  },
  {
   "cell_type": "code",
   "execution_count": 55,
   "id": "utility-driving",
   "metadata": {},
   "outputs": [],
   "source": [
    "df_2021020028.to_csv(\"df_2021020028.csv\", index=False) # 라푼젤\n",
    "df_2021020030.to_csv(\"df_2021020030.csv\", index=False) # 캣츠\n",
    "df_2021020072.to_csv(\"df_2021020072.csv\", index=False) # 베르나르다 알바\n",
    "df_2021030009.to_csv(\"df_2021030009.csv\", index=False) # 백설공주\n",
    "df_2021030013.to_csv(\"df_2021030013.csv\", index=False) # 더퀸: 선덕여왕의 귀환\n",
    "df_2021030039.to_csv(\"df_2021030039.csv\", index=False) # 엄마 까투리: 먹구렁이와 생일파티\n",
    "df_2021030074.to_csv(\"df_2021030074.csv\", index=False) # 시크릿쥬쥬 시즌2: 별의여신\n",
    "df_2021030094.to_csv(\"df_2021030094.csv\", index=False) # 레미제라블 40주년 프랑스 오리지널팀 내한 콘서트\n",
    "df_2021030108.to_csv(\"df_2021030108.csv\", index=False) # 흔한남매: 엄마의 꿈을 지켜라!"
   ]
  },
  {
   "cell_type": "code",
   "execution_count": null,
   "id": "sharp-great",
   "metadata": {},
   "outputs": [],
   "source": []
  }
 ],
 "metadata": {
  "kernelspec": {
   "display_name": "Python 3",
   "language": "python",
   "name": "python3"
  },
  "language_info": {
   "codemirror_mode": {
    "name": "ipython",
    "version": 3
   },
   "file_extension": ".py",
   "mimetype": "text/x-python",
   "name": "python",
   "nbconvert_exporter": "python",
   "pygments_lexer": "ipython3",
   "version": "3.9.2"
  }
 },
 "nbformat": 4,
 "nbformat_minor": 5
}
